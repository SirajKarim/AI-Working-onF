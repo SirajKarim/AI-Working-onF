{
 "cells": [
  {
   "cell_type": "code",
   "execution_count": 1,
   "metadata": {},
   "outputs": [],
   "source": [
    "import spacy\n",
    "from string import punctuation\n",
    "from spacy.lang.en.stop_words import STOP_WORDS\n",
    "\n",
    "nlp=spacy.load('en')"
   ]
  },
  {
   "cell_type": "code",
   "execution_count": 2,
   "metadata": {},
   "outputs": [
    {
     "ename": "FileNotFoundError",
     "evalue": "[Errno 2] No such file or directory: 'NewArticle.txt'",
     "output_type": "error",
     "traceback": [
      "\u001b[0;31m---------------------------------------------------------------------------\u001b[0m",
      "\u001b[0;31mFileNotFoundError\u001b[0m                         Traceback (most recent call last)",
      "\u001b[0;32m<ipython-input-2-9e559d357774>\u001b[0m in \u001b[0;36m<module>\u001b[0;34m\u001b[0m\n\u001b[0;32m----> 1\u001b[0;31m \u001b[0;32mwith\u001b[0m \u001b[0mopen\u001b[0m\u001b[0;34m(\u001b[0m\u001b[0;34m\"NewArticle.txt\"\u001b[0m\u001b[0;34m,\u001b[0m\u001b[0;34m\"r\"\u001b[0m\u001b[0;34m)\u001b[0m \u001b[0;32mas\u001b[0m \u001b[0mf\u001b[0m\u001b[0;34m:\u001b[0m\u001b[0;34m\u001b[0m\u001b[0;34m\u001b[0m\u001b[0m\n\u001b[0m\u001b[1;32m      2\u001b[0m     \u001b[0mtext_of_file\u001b[0m\u001b[0;34m=\u001b[0m\u001b[0mf\u001b[0m\u001b[0;34m.\u001b[0m\u001b[0mread\u001b[0m\u001b[0;34m(\u001b[0m\u001b[0;34m)\u001b[0m\u001b[0;34m\u001b[0m\u001b[0;34m\u001b[0m\u001b[0m\n",
      "\u001b[0;31mFileNotFoundError\u001b[0m: [Errno 2] No such file or directory: 'NewArticle.txt'"
     ]
    }
   ],
   "source": [
    "with open(\"NewArticle.txt\",\"r\") as f:\n",
    "    text_of_file=f.read() "
   ]
  },
  {
   "cell_type": "code",
   "execution_count": 3,
   "metadata": {},
   "outputs": [],
   "source": [
    "doc=nlp(text_of_file)"
   ]
  },
  {
   "cell_type": "code",
   "execution_count": 4,
   "metadata": {},
   "outputs": [],
   "source": [
    "sts=[]"
   ]
  },
  {
   "cell_type": "code",
   "execution_count": 5,
   "metadata": {},
   "outputs": [
    {
     "name": "stdout",
     "output_type": "stream",
     "text": [
      "An operating system (OS) is system software that manages computer hardware, software resources, and provides common services for computer programs.\n",
      "Time-sharing operating systems schedule tasks for efficient use of the system and may also include accounting software for cost allocation of processor time, mass storage, printing, and other resources.\n",
      "\n",
      "\n",
      "For hardware functions such as input and output and memory allocation, the operating system acts as an intermediary between programs and the computer hardware, although the application code is usually executed directly by the hardware and frequently makes system calls to an OS function or is interrupted by it.\n",
      "Operating systems are found on many devices that contain a computer – from cellular phones and video game consoles to web servers and supercomputers.\n",
      "\n"
     ]
    }
   ],
   "source": [
    "for sentence in doc.sents:\n",
    "    sts.append(sentence)\n",
    "    print(sentence)"
   ]
  },
  {
   "cell_type": "code",
   "execution_count": 6,
   "metadata": {},
   "outputs": [],
   "source": [
    "length = len(sts) "
   ]
  },
  {
   "cell_type": "code",
   "execution_count": 7,
   "metadata": {},
   "outputs": [],
   "source": [
    "newtoken=[]"
   ]
  },
  {
   "cell_type": "code",
   "execution_count": 8,
   "metadata": {},
   "outputs": [
    {
     "name": "stdout",
     "output_type": "stream",
     "text": [
      "An operating system (OS) is system software that manages computer hardware, software resources, and provides common services for computer programs.\n",
      "An\n",
      "operating\n",
      "system\n",
      "(\n",
      "OS\n",
      ")\n",
      "is\n",
      "system\n",
      "software\n",
      "that\n",
      "manages\n",
      "computer\n",
      "hardware\n",
      ",\n",
      "software\n",
      "resources\n",
      ",\n",
      "and\n",
      "provides\n",
      "common\n",
      "services\n",
      "for\n",
      "computer\n",
      "programs\n",
      ".\n",
      "Time-sharing operating systems schedule tasks for efficient use of the system and may also include accounting software for cost allocation of processor time, mass storage, printing, and other resources.\n",
      "\n",
      "\n",
      "Time\n",
      "-\n",
      "sharing\n",
      "operating\n",
      "systems\n",
      "schedule\n",
      "tasks\n",
      "for\n",
      "efficient\n",
      "use\n",
      "of\n",
      "the\n",
      "system\n",
      "and\n",
      "may\n",
      "also\n",
      "include\n",
      "accounting\n",
      "software\n",
      "for\n",
      "cost\n",
      "allocation\n",
      "of\n",
      "processor\n",
      "time\n",
      ",\n",
      "mass\n",
      "storage\n",
      ",\n",
      "printing\n",
      ",\n",
      "and\n",
      "other\n",
      "resources\n",
      ".\n",
      "\n",
      "\n",
      "\n",
      "For hardware functions such as input and output and memory allocation, the operating system acts as an intermediary between programs and the computer hardware, although the application code is usually executed directly by the hardware and frequently makes system calls to an OS function or is interrupted by it.\n",
      "For\n",
      "hardware\n",
      "functions\n",
      "such\n",
      "as\n",
      "input\n",
      "and\n",
      "output\n",
      "and\n",
      "memory\n",
      "allocation\n",
      ",\n",
      "the\n",
      "operating\n",
      "system\n",
      "acts\n",
      "as\n",
      "an\n",
      "intermediary\n",
      "between\n",
      "programs\n",
      "and\n",
      "the\n",
      "computer\n",
      "hardware\n",
      ",\n",
      "although\n",
      "the\n",
      "application\n",
      "code\n",
      "is\n",
      "usually\n",
      "executed\n",
      "directly\n",
      "by\n",
      "the\n",
      "hardware\n",
      "and\n",
      "frequently\n",
      "makes\n",
      "system\n",
      "calls\n",
      "to\n",
      "an\n",
      "OS\n",
      "function\n",
      "or\n",
      "is\n",
      "interrupted\n",
      "by\n",
      "it\n",
      ".\n",
      "Operating systems are found on many devices that contain a computer – from cellular phones and video game consoles to web servers and supercomputers.\n",
      "\n",
      "Operating\n",
      "systems\n",
      "are\n",
      "found\n",
      "on\n",
      "many\n",
      "devices\n",
      "that\n",
      "contain\n",
      "a\n",
      "computer\n",
      "–\n",
      "from\n",
      "cellular\n",
      "phones\n",
      "and\n",
      "video\n",
      "game\n",
      "consoles\n",
      "to\n",
      "web\n",
      "servers\n",
      "and\n",
      "supercomputers\n",
      ".\n",
      "\n",
      "\n"
     ]
    }
   ],
   "source": [
    "for s in range(length):\n",
    "    print(sts[s])\n",
    "    for token in sts[s]:\n",
    "            newtoken.append(token)\n",
    "            print(token)"
   ]
  },
  {
   "cell_type": "code",
   "execution_count": 9,
   "metadata": {},
   "outputs": [],
   "source": [
    "# # ye line sir se check krwane ha \n",
    "# for t in newtoken:\n",
    "#     print(nlp.vocab[t].is_stop)\n",
    "# ye line sir se check krwane ha \n",
    "## for t in range(len(newtoken)):\n",
    "##     print(nlp.vocab[t].is_stop)"
   ]
  },
  {
   "cell_type": "code",
   "execution_count": 10,
   "metadata": {},
   "outputs": [],
   "source": [
    "# ye method net se dekha ha ise implement krna ha is ka link ye ha https://hackernoon.com/summarization-with-wine-reviews-using-spacy-b49f18399577\n",
    "# def cleanup_text(docs, logging=False):\n",
    "#     texts = []\n",
    "#     doc = nlp(docs, disable=['parser', 'ner'])\n",
    "#     tokens = [tok.lemma_.lower().strip() for tok in doc if tok.lemma_ != '-PRON-']\n",
    "#     tokens = [tok for tok in tokens if tok not in stopwords and tok not in punctuations]\n",
    "#     tokens = ' '.join(tokens)\n",
    "#     texts.append(tokens)\n",
    "#     return pd.Series(texts)\n"
   ]
  },
  {
   "cell_type": "code",
   "execution_count": 42,
   "metadata": {},
   "outputs": [],
   "source": [
    "punctuations = '!\"#$%&\\'()*+,-/:;<=>?@[\\\\]^_`{|}~©'\n",
    "texts = []\n",
    "tokens = [tok.lemma_.lower().strip() for tok in doc if tok.lemma_ != '-PRON-']\n",
    "tokens = [tok for tok in tokens if tok not in STOP_WORDS and tok not in punctuations] #token name ke list m sare token save horahe hain\n",
    "tokens = ' '.join(tokens)\n",
    "texts.append(tokens)"
   ]
  },
  {
   "cell_type": "code",
   "execution_count": 43,
   "metadata": {},
   "outputs": [],
   "source": [
    "# for t in texts:\n",
    "#     if w1 not in extra_words and w1.isalpha():\n",
    "#         if w1 in Freq_word.keys():\n",
    "#             Freq_word[w1]+=1\n",
    "#         else:\n",
    "#             Freq_word[w1]=1\n",
    "#             print(t)"
   ]
  },
  {
   "cell_type": "code",
   "execution_count": 46,
   "metadata": {},
   "outputs": [],
   "source": [
    "Freq_word={}\n",
    "for t in tokens:\n",
    "    if t not in STOP_WORDS and t not in punctuations:\n",
    "         if t in Freq_word.keys():\n",
    "            Freq_word[t]+=1\n",
    "         else:\n",
    "            Freq_word[t]=1"
   ]
  },
  {
   "cell_type": "code",
   "execution_count": null,
   "metadata": {},
   "outputs": [],
   "source": []
  },
  {
   "cell_type": "code",
   "execution_count": 47,
   "metadata": {},
   "outputs": [],
   "source": [
    "maximum_frequncy = max(Freq_word.values())\n",
    "\n",
    "for word in Freq_word.keys():\n",
    "    Freq_word[word] = (Freq_word[word]/maximum_frequncy)"
   ]
  },
  {
   "cell_type": "code",
   "execution_count": 48,
   "metadata": {},
   "outputs": [
    {
     "data": {
      "text/plain": [
       "'b'"
      ]
     },
     "execution_count": 48,
     "metadata": {},
     "output_type": "execute_result"
    }
   ],
   "source": [
    "word"
   ]
  },
  {
   "cell_type": "code",
   "execution_count": 51,
   "metadata": {},
   "outputs": [],
   "source": [
    "sentence_scores = {}\n",
    "for sent in sts:\n",
    "    for word in tokens:\n",
    "        if word in Freq_word.keys():\n",
    "#             if len(sent.split(' ')) < 30:\n",
    "                if sent not in sentence_scores.keys():\n",
    "                    sentence_scores[sent] = Freq_word[word]\n",
    "                else:\n",
    "                    sentence_scores[sent] += Freq_word[word]"
   ]
  },
  {
   "cell_type": "code",
   "execution_count": 39,
   "metadata": {},
   "outputs": [
    {
     "data": {
      "text/plain": [
       "{An operating system (OS) is system software that manages computer hardware, software resources, and provides common services for computer programs.: 26.571428571428566,\n",
       " Time-sharing operating systems schedule tasks for efficient use of the system and may also include accounting software for cost allocation of processor time, mass storage, printing, and other resources.\n",
       " : 26.571428571428566,\n",
       " For hardware functions such as input and output and memory allocation, the operating system acts as an intermediary between programs and the computer hardware, although the application code is usually executed directly by the hardware and frequently makes system calls to an OS function or is interrupted by it.: 26.571428571428566,\n",
       " Operating systems are found on many devices that contain a computer – from cellular phones and video game consoles to web servers and supercomputers.: 26.571428571428566}"
      ]
     },
     "execution_count": 39,
     "metadata": {},
     "output_type": "execute_result"
    }
   ],
   "source": []
  }
 ],
 "metadata": {
  "kernelspec": {
   "display_name": "Python 3",
   "language": "python",
   "name": "python3"
  },
  "language_info": {
   "codemirror_mode": {
    "name": "ipython",
    "version": 3
   },
   "file_extension": ".py",
   "mimetype": "text/x-python",
   "name": "python",
   "nbconvert_exporter": "python",
   "pygments_lexer": "ipython3",
   "version": "3.7.6"
  }
 },
 "nbformat": 4,
 "nbformat_minor": 2
}
