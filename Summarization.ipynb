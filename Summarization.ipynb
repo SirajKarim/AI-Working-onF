{
 "cells": [
  {
   "cell_type": "code",
   "execution_count": 1,
   "metadata": {},
   "outputs": [],
   "source": [
    "import spacy\n",
    "from string import punctuation\n",
    "from spacy.lang.en.stop_words import STOP_WORDS\n",
    "\n",
    "nlp=spacy.load('en')"
   ]
  },
  {
   "cell_type": "code",
   "execution_count": 2,
   "metadata": {},
   "outputs": [],
   "source": [
    "extra_words=list(STOP_WORDS)+list(punctuation)+['\\n']"
   ]
  },
  {
   "cell_type": "code",
   "execution_count": 4,
   "metadata": {},
   "outputs": [
    {
     "data": {
      "text/plain": [
       "359"
      ]
     },
     "execution_count": 4,
     "metadata": {},
     "output_type": "execute_result"
    }
   ],
   "source": [
    "len(extra_words)"
   ]
  },
  {
   "cell_type": "code",
   "execution_count": 5,
   "metadata": {},
   "outputs": [],
   "source": [
    "doc=\"\"\"NLP is a way for computers to analyze, understand, and derive meaning from human language in a smart and useful way.\n",
    "       By utilizing NLP, developers can organize and structure knowledge to perform tasks such as automatic summarization, \n",
    "       translation, named entity recognition, relationship extraction, sentiment analysis, speech recognition, and topic \n",
    "       segmentation.Apart from common word processor operations that treat text like a mere sequence of symbols, NLP considers\n",
    "       the hierarchical structure of language: several words make a phrase, several phrases make a sentence and, ultimately,\n",
    "       sentences convey ideas,” John Rehling, an NLP expert at Meltwater Group,said in How Natural Language Processing Helps\n",
    "       Uncover Social Media Sentiment. “By analyzing language for its meaning, NLP systems have long filled useful roles, \n",
    "       such as correcting grammar, converting speech to text and automatically translating between languages.NLP is used \n",
    "       to analyze text, allowing machines to understand how human’s speak. This human-computer interaction enables real-world \n",
    "       applications like automatic text summarization,sentiment analysis, topic extraction, named entity recognition, \n",
    "       parts-of-speech tagging, relationship extraction,stemming, and more. NLP is commonly used for text mining, machine \n",
    "       translation, and automated question answering.NLP is characterized as a hard problem in computer science. Human language\n",
    "       is rarely precise, or plainly spoken.To understand human language is to understand not only the words, but the concepts \n",
    "       and how they’re linked together to create meaning. Despite language being one of the easiest things for humans to learn\n",
    "       , the ambiguity of language is what makes natural language processing a difficult problem for computers to master.\"\"\""
   ]
  },
  {
   "cell_type": "code",
   "execution_count": 6,
   "metadata": {},
   "outputs": [],
   "source": [
    "docx = nlp(doc)"
   ]
  },
  {
   "cell_type": "code",
   "execution_count": 7,
   "metadata": {},
   "outputs": [],
   "source": [
    "all_words=[word.text for word in docx]"
   ]
  },
  {
   "cell_type": "code",
   "execution_count": 8,
   "metadata": {},
   "outputs": [
    {
     "data": {
      "text/plain": [
       "321"
      ]
     },
     "execution_count": 8,
     "metadata": {},
     "output_type": "execute_result"
    }
   ],
   "source": [
    "len(all_words)"
   ]
  },
  {
   "cell_type": "code",
   "execution_count": 9,
   "metadata": {},
   "outputs": [
    {
     "data": {
      "text/plain": [
       "['NLP', 'is', 'a', 'way', 'for']"
      ]
     },
     "execution_count": 9,
     "metadata": {},
     "output_type": "execute_result"
    }
   ],
   "source": [
    "all_words[:5]"
   ]
  },
  {
   "cell_type": "code",
   "execution_count": 10,
   "metadata": {},
   "outputs": [],
   "source": [
    "Freq_word={}\n",
    "for w in all_words:\n",
    "    w1=w.lower()\n",
    "    if w1 not in extra_words and w1.isalpha():\n",
    "        if w1 in Freq_word.keys():\n",
    "            Freq_word[w1]+=1\n",
    "        else:\n",
    "            Freq_word[w1]=1"
   ]
  },
  {
   "cell_type": "code",
   "execution_count": 11,
   "metadata": {},
   "outputs": [
    {
     "data": {
      "text/plain": [
       "{'nlp': 8,\n",
       " 'way': 2,\n",
       " 'computers': 2,\n",
       " 'analyze': 2,\n",
       " 'understand': 4,\n",
       " 'derive': 1,\n",
       " 'meaning': 3,\n",
       " 'human': 5,\n",
       " 'language': 9,\n",
       " 'smart': 1,\n",
       " 'useful': 2,\n",
       " 'utilizing': 1,\n",
       " 'developers': 1,\n",
       " 'organize': 1,\n",
       " 'structure': 2,\n",
       " 'knowledge': 1,\n",
       " 'perform': 1,\n",
       " 'tasks': 1,\n",
       " 'automatic': 2,\n",
       " 'summarization': 2,\n",
       " 'translation': 2,\n",
       " 'named': 2,\n",
       " 'entity': 2,\n",
       " 'recognition': 3,\n",
       " 'relationship': 2,\n",
       " 'extraction': 3,\n",
       " 'sentiment': 3,\n",
       " 'analysis': 2,\n",
       " 'speech': 3,\n",
       " 'topic': 2,\n",
       " 'segmentation': 1,\n",
       " 'apart': 1,\n",
       " 'common': 1,\n",
       " 'word': 1,\n",
       " 'processor': 1,\n",
       " 'operations': 1,\n",
       " 'treat': 1,\n",
       " 'text': 5,\n",
       " 'like': 2,\n",
       " 'mere': 1,\n",
       " 'sequence': 1,\n",
       " 'symbols': 1,\n",
       " 'considers': 1,\n",
       " 'hierarchical': 1,\n",
       " 'words': 2,\n",
       " 'phrase': 1,\n",
       " 'phrases': 1,\n",
       " 'sentence': 1,\n",
       " 'ultimately': 1,\n",
       " 'sentences': 1,\n",
       " 'convey': 1,\n",
       " 'ideas': 1,\n",
       " 'john': 1,\n",
       " 'rehling': 1,\n",
       " 'expert': 1,\n",
       " 'meltwater': 1,\n",
       " 'group': 1,\n",
       " 'said': 1,\n",
       " 'natural': 2,\n",
       " 'processing': 2,\n",
       " 'helps': 1,\n",
       " 'uncover': 1,\n",
       " 'social': 1,\n",
       " 'media': 1,\n",
       " 'analyzing': 1,\n",
       " 'systems': 1,\n",
       " 'long': 1,\n",
       " 'filled': 1,\n",
       " 'roles': 1,\n",
       " 'correcting': 1,\n",
       " 'grammar': 1,\n",
       " 'converting': 1,\n",
       " 'automatically': 1,\n",
       " 'translating': 1,\n",
       " 'languages': 1,\n",
       " 'allowing': 1,\n",
       " 'machines': 1,\n",
       " 'speak': 1,\n",
       " 'computer': 2,\n",
       " 'interaction': 1,\n",
       " 'enables': 1,\n",
       " 'real': 1,\n",
       " 'world': 1,\n",
       " 'applications': 1,\n",
       " 'parts': 1,\n",
       " 'tagging': 1,\n",
       " 'stemming': 1,\n",
       " 'commonly': 1,\n",
       " 'mining': 1,\n",
       " 'machine': 1,\n",
       " 'automated': 1,\n",
       " 'question': 1,\n",
       " 'answering': 1,\n",
       " 'characterized': 1,\n",
       " 'hard': 1,\n",
       " 'problem': 2,\n",
       " 'science': 1,\n",
       " 'rarely': 1,\n",
       " 'precise': 1,\n",
       " 'plainly': 1,\n",
       " 'spoken': 1,\n",
       " 'concepts': 1,\n",
       " 'linked': 1,\n",
       " 'create': 1,\n",
       " 'despite': 1,\n",
       " 'easiest': 1,\n",
       " 'things': 1,\n",
       " 'humans': 1,\n",
       " 'learn': 1,\n",
       " 'ambiguity': 1,\n",
       " 'makes': 1,\n",
       " 'difficult': 1,\n",
       " 'master': 1}"
      ]
     },
     "execution_count": 11,
     "metadata": {},
     "output_type": "execute_result"
    }
   ],
   "source": [
    "Freq_word"
   ]
  },
  {
   "cell_type": "code",
   "execution_count": 12,
   "metadata": {},
   "outputs": [
    {
     "name": "stdout",
     "output_type": "stream",
     "text": [
      "Topic of document given :-\n",
      "nlp human language text "
     ]
    }
   ],
   "source": [
    "val=sorted(Freq_word.values())\n",
    "max_freq=val[-3:]\n",
    "print(\"Topic of document given :-\")\n",
    "for word,freq in Freq_word.items():  \n",
    "    \n",
    "    if freq in max_freq:\n",
    "        print(word ,end=\" \")\n",
    "        \n",
    "    else:\n",
    "        continue"
   ]
  },
  {
   "cell_type": "code",
   "execution_count": 13,
   "metadata": {},
   "outputs": [
    {
     "data": {
      "text/plain": [
       "[5, 8, 9]"
      ]
     },
     "execution_count": 13,
     "metadata": {},
     "output_type": "execute_result"
    }
   ],
   "source": [
    "max_freq"
   ]
  },
  {
   "cell_type": "code",
   "execution_count": 14,
   "metadata": {},
   "outputs": [],
   "source": [
    "for word in Freq_word.keys():\n",
    "       Freq_word[word] = (Freq_word[word]/max_freq[-1])"
   ]
  },
  {
   "cell_type": "code",
   "execution_count": 15,
   "metadata": {},
   "outputs": [
    {
     "data": {
      "text/plain": [
       "{'nlp': 0.8888888888888888,\n",
       " 'way': 0.2222222222222222,\n",
       " 'computers': 0.2222222222222222,\n",
       " 'analyze': 0.2222222222222222,\n",
       " 'understand': 0.4444444444444444,\n",
       " 'derive': 0.1111111111111111,\n",
       " 'meaning': 0.3333333333333333,\n",
       " 'human': 0.5555555555555556,\n",
       " 'language': 1.0,\n",
       " 'smart': 0.1111111111111111,\n",
       " 'useful': 0.2222222222222222,\n",
       " 'utilizing': 0.1111111111111111,\n",
       " 'developers': 0.1111111111111111,\n",
       " 'organize': 0.1111111111111111,\n",
       " 'structure': 0.2222222222222222,\n",
       " 'knowledge': 0.1111111111111111,\n",
       " 'perform': 0.1111111111111111,\n",
       " 'tasks': 0.1111111111111111,\n",
       " 'automatic': 0.2222222222222222,\n",
       " 'summarization': 0.2222222222222222,\n",
       " 'translation': 0.2222222222222222,\n",
       " 'named': 0.2222222222222222,\n",
       " 'entity': 0.2222222222222222,\n",
       " 'recognition': 0.3333333333333333,\n",
       " 'relationship': 0.2222222222222222,\n",
       " 'extraction': 0.3333333333333333,\n",
       " 'sentiment': 0.3333333333333333,\n",
       " 'analysis': 0.2222222222222222,\n",
       " 'speech': 0.3333333333333333,\n",
       " 'topic': 0.2222222222222222,\n",
       " 'segmentation': 0.1111111111111111,\n",
       " 'apart': 0.1111111111111111,\n",
       " 'common': 0.1111111111111111,\n",
       " 'word': 0.1111111111111111,\n",
       " 'processor': 0.1111111111111111,\n",
       " 'operations': 0.1111111111111111,\n",
       " 'treat': 0.1111111111111111,\n",
       " 'text': 0.5555555555555556,\n",
       " 'like': 0.2222222222222222,\n",
       " 'mere': 0.1111111111111111,\n",
       " 'sequence': 0.1111111111111111,\n",
       " 'symbols': 0.1111111111111111,\n",
       " 'considers': 0.1111111111111111,\n",
       " 'hierarchical': 0.1111111111111111,\n",
       " 'words': 0.2222222222222222,\n",
       " 'phrase': 0.1111111111111111,\n",
       " 'phrases': 0.1111111111111111,\n",
       " 'sentence': 0.1111111111111111,\n",
       " 'ultimately': 0.1111111111111111,\n",
       " 'sentences': 0.1111111111111111,\n",
       " 'convey': 0.1111111111111111,\n",
       " 'ideas': 0.1111111111111111,\n",
       " 'john': 0.1111111111111111,\n",
       " 'rehling': 0.1111111111111111,\n",
       " 'expert': 0.1111111111111111,\n",
       " 'meltwater': 0.1111111111111111,\n",
       " 'group': 0.1111111111111111,\n",
       " 'said': 0.1111111111111111,\n",
       " 'natural': 0.2222222222222222,\n",
       " 'processing': 0.2222222222222222,\n",
       " 'helps': 0.1111111111111111,\n",
       " 'uncover': 0.1111111111111111,\n",
       " 'social': 0.1111111111111111,\n",
       " 'media': 0.1111111111111111,\n",
       " 'analyzing': 0.1111111111111111,\n",
       " 'systems': 0.1111111111111111,\n",
       " 'long': 0.1111111111111111,\n",
       " 'filled': 0.1111111111111111,\n",
       " 'roles': 0.1111111111111111,\n",
       " 'correcting': 0.1111111111111111,\n",
       " 'grammar': 0.1111111111111111,\n",
       " 'converting': 0.1111111111111111,\n",
       " 'automatically': 0.1111111111111111,\n",
       " 'translating': 0.1111111111111111,\n",
       " 'languages': 0.1111111111111111,\n",
       " 'allowing': 0.1111111111111111,\n",
       " 'machines': 0.1111111111111111,\n",
       " 'speak': 0.1111111111111111,\n",
       " 'computer': 0.2222222222222222,\n",
       " 'interaction': 0.1111111111111111,\n",
       " 'enables': 0.1111111111111111,\n",
       " 'real': 0.1111111111111111,\n",
       " 'world': 0.1111111111111111,\n",
       " 'applications': 0.1111111111111111,\n",
       " 'parts': 0.1111111111111111,\n",
       " 'tagging': 0.1111111111111111,\n",
       " 'stemming': 0.1111111111111111,\n",
       " 'commonly': 0.1111111111111111,\n",
       " 'mining': 0.1111111111111111,\n",
       " 'machine': 0.1111111111111111,\n",
       " 'automated': 0.1111111111111111,\n",
       " 'question': 0.1111111111111111,\n",
       " 'answering': 0.1111111111111111,\n",
       " 'characterized': 0.1111111111111111,\n",
       " 'hard': 0.1111111111111111,\n",
       " 'problem': 0.2222222222222222,\n",
       " 'science': 0.1111111111111111,\n",
       " 'rarely': 0.1111111111111111,\n",
       " 'precise': 0.1111111111111111,\n",
       " 'plainly': 0.1111111111111111,\n",
       " 'spoken': 0.1111111111111111,\n",
       " 'concepts': 0.1111111111111111,\n",
       " 'linked': 0.1111111111111111,\n",
       " 'create': 0.1111111111111111,\n",
       " 'despite': 0.1111111111111111,\n",
       " 'easiest': 0.1111111111111111,\n",
       " 'things': 0.1111111111111111,\n",
       " 'humans': 0.1111111111111111,\n",
       " 'learn': 0.1111111111111111,\n",
       " 'ambiguity': 0.1111111111111111,\n",
       " 'makes': 0.1111111111111111,\n",
       " 'difficult': 0.1111111111111111,\n",
       " 'master': 0.1111111111111111}"
      ]
     },
     "execution_count": 15,
     "metadata": {},
     "output_type": "execute_result"
    }
   ],
   "source": [
    "Freq_word"
   ]
  },
  {
   "cell_type": "code",
   "execution_count": 16,
   "metadata": {},
   "outputs": [],
   "source": [
    "sent_strength={}\n",
    "for sent in docx.sents:\n",
    "    for word in sent :\n",
    "        if word.text.lower() in Freq_word.keys():\n",
    "            if sent in sent_strength.keys():\n",
    "                sent_strength[sent]+=Freq_word[word.text.lower()]\n",
    "            else:\n",
    "                sent_strength[sent]=Freq_word[word.text.lower()]\n",
    "        else:\n",
    "            continue"
   ]
  },
  {
   "cell_type": "code",
   "execution_count": 17,
   "metadata": {},
   "outputs": [
    {
     "data": {
      "text/plain": [
       "{NLP is a way for computers to analyze, understand, and derive meaning from human language in a smart and useful way.\n",
       "        : 4.555555555555555,\n",
       " By utilizing NLP, developers can organize and structure knowledge to perform tasks such as automatic summarization, \n",
       "        translation, named entity recognition, relationship extraction, sentiment analysis, speech recognition, and topic \n",
       "        segmentation.: 5.333333333333334,\n",
       " Apart from common word processor operations that treat text like a mere sequence of symbols, NLP considers\n",
       "        the hierarchical structure of language: several words make a phrase, several phrases make a sentence and, ultimately,\n",
       "        sentences convey ideas,” John Rehling, an NLP expert at Meltwater Group,said in How Natural Language Processing Helps\n",
       "        Uncover Social Media Sentiment.: 8.888888888888884,\n",
       " “By analyzing language for its meaning, NLP systems have long filled useful roles, \n",
       "        such as correcting grammar, converting speech to text and automatically translating between languages.: 4.5555555555555545,\n",
       " NLP is used \n",
       "        to analyze text, allowing machines to understand how human’s speak.: 3.0000000000000004,\n",
       " This human-computer interaction enables real-world \n",
       "        applications like automatic text summarization,sentiment analysis, topic extraction, named entity recognition, \n",
       "        parts-of-speech tagging, relationship extraction,stemming, and more.: 5.666666666666666,\n",
       " NLP is commonly used for text mining, machine \n",
       "        translation, and automated question answering.: 2.3333333333333335,\n",
       " NLP is characterized as a hard problem in computer science.: 1.666666666666667,\n",
       " Human language\n",
       "        is rarely precise, or plainly spoken.: 2.0,\n",
       " To understand human language is to understand not only the words, but the concepts \n",
       "        and how they’re linked together to create meaning.: 3.333333333333334,\n",
       " Despite language being one of the easiest things for humans to learn\n",
       "        , the ambiguity of language is what makes natural language processing a difficult problem for computers to master.: 4.888888888888888}"
      ]
     },
     "execution_count": 17,
     "metadata": {},
     "output_type": "execute_result"
    }
   ],
   "source": [
    "sent_strength"
   ]
  },
  {
   "cell_type": "code",
   "execution_count": 18,
   "metadata": {},
   "outputs": [],
   "source": [
    "top_sentences=(sorted(sent_strength.values())[::-1])\n",
    "top30percent_sentence=int(0.3*len(top_sentences))\n",
    "top_sent=top_sentences[:top30percent_sentence]"
   ]
  },
  {
   "cell_type": "code",
   "execution_count": 25,
   "metadata": {},
   "outputs": [
    {
     "data": {
      "text/plain": [
       "3"
      ]
     },
     "execution_count": 25,
     "metadata": {},
     "output_type": "execute_result"
    }
   ],
   "source": [
    "top30percent_sentence"
   ]
  },
  {
   "cell_type": "code",
   "execution_count": 19,
   "metadata": {},
   "outputs": [
    {
     "data": {
      "text/plain": [
       "[8.888888888888884,\n",
       " 5.666666666666666,\n",
       " 5.333333333333334,\n",
       " 4.888888888888888,\n",
       " 4.555555555555555,\n",
       " 4.5555555555555545,\n",
       " 3.333333333333334,\n",
       " 3.0000000000000004,\n",
       " 2.3333333333333335,\n",
       " 2.0,\n",
       " 1.666666666666667]"
      ]
     },
     "execution_count": 19,
     "metadata": {},
     "output_type": "execute_result"
    }
   ],
   "source": [
    "top_sentences"
   ]
  },
  {
   "cell_type": "code",
   "execution_count": 22,
   "metadata": {},
   "outputs": [],
   "source": [
    "# len(x for x in docx.sents)"
   ]
  },
  {
   "cell_type": "code",
   "execution_count": 23,
   "metadata": {},
   "outputs": [
    {
     "data": {
      "text/plain": [
       "[8.888888888888884, 5.666666666666666, 5.333333333333334]"
      ]
     },
     "execution_count": 23,
     "metadata": {},
     "output_type": "execute_result"
    }
   ],
   "source": [
    "top_sent"
   ]
  },
  {
   "cell_type": "code",
   "execution_count": 24,
   "metadata": {},
   "outputs": [],
   "source": [
    "summary=[]\n",
    "for sent, strength in sent_strength.items():\n",
    "       if strength in top_sent:\n",
    "            summary.append(sent)\n",
    "       else:\n",
    "          continue"
   ]
  },
  {
   "cell_type": "code",
   "execution_count": 28,
   "metadata": {},
   "outputs": [
    {
     "name": "stdout",
     "output_type": "stream",
     "text": [
      "By utilizing NLP, developers can organize and structure knowledge to perform tasks such as automatic summarization, translation, named entity recognition, relationship extraction, sentiment analysis, speech recognition, and topic segmentation.Apart from common word processor operations that treat text like a mere sequence of symbols, NLP considers the hierarchical structure of language: several words make a phrase, several phrases make a sentence and, ultimately, sentences convey ideas,” John Rehling, an NLP expert at Meltwater Group,said in How Natural Language Processing Helps Uncover Social Media Sentiment.This human-computer interaction enables real-world applications like automatic text summarization,sentiment analysis, topic extraction, named entity recognition, parts-of-speech tagging, relationship extraction,stemming, and more."
     ]
    }
   ],
   "source": [
    "for i in summary:\n",
    "    print(i, end=\"\")"
   ]
  },
  {
   "cell_type": "code",
   "execution_count": null,
   "metadata": {},
   "outputs": [],
   "source": []
  }
 ],
 "metadata": {
  "kernelspec": {
   "display_name": "Python 3",
   "language": "python",
   "name": "python3"
  },
  "language_info": {
   "codemirror_mode": {
    "name": "ipython",
    "version": 3
   },
   "file_extension": ".py",
   "mimetype": "text/x-python",
   "name": "python",
   "nbconvert_exporter": "python",
   "pygments_lexer": "ipython3",
   "version": "3.7.3"
  }
 },
 "nbformat": 4,
 "nbformat_minor": 2
}
