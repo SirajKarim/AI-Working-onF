{
 "cells": [
  {
   "cell_type": "code",
   "execution_count": 30,
   "metadata": {},
   "outputs": [],
   "source": [
    "import subprocess"
   ]
  },
  {
   "cell_type": "code",
   "execution_count": 45,
   "metadata": {},
   "outputs": [],
   "source": [
    "out = subprocess.Popen(['mutool','show', r'/home/muhammadsiraj/Downloads/Natural Language Processing with Python.pdf', 'outline'],\n",
    "                       stdout=subprocess.PIPE,\n",
    "                       stderr=subprocess.STDOUT)"
   ]
  },
  {
   "cell_type": "code",
   "execution_count": 46,
   "metadata": {},
   "outputs": [],
   "source": [
    "stdout, stderr = out.communicate()"
   ]
  },
  {
   "cell_type": "code",
   "execution_count": 47,
   "metadata": {},
   "outputs": [],
   "source": [
    "stdout = str(stdout)"
   ]
  },
  {
   "cell_type": "code",
   "execution_count": 48,
   "metadata": {},
   "outputs": [],
   "source": [
    "mystr = stdout\n",
    "mystr = mystr.split(sep=r'\\r\\n')"
   ]
  },
  {
   "cell_type": "code",
   "execution_count": 49,
   "metadata": {},
   "outputs": [],
   "source": [
    "i = 0\n",
    "len_mystr = len(mystr[0])\n",
    "\n",
    "new_list = []\n",
    "for s in mystr:\n",
    "    s = s.replace(r'\\t', '  ')\n",
    "    if i == 0:\n",
    "        s = s[2:len_mystr]\n",
    "    new_list.append(s)\n",
    "    i = i + 1\n",
    "\n",
    "new_list.pop()\n",
    "\n",
    "for s in new_list:\n",
    "    print(s)"
   ]
  },
  {
   "cell_type": "code",
   "execution_count": 50,
   "metadata": {},
   "outputs": [
    {
     "data": {
      "text/plain": [
       "[\"b'Table of Contents\\\\t#7,0,608\\\\nPreface\\\\t#11,0,608\\\\n\\\\tAudience\\\\t#12,0,608\\\\n\\\\tEmphasis\\\\t#12,0,235\\\\n\\\\tWhat You Will Learn\\\\t#13,0,492\\\\n\\\\tOrganization\\\\t#13,0,208\\\\n\\\\tWhy Python?\\\\t#14,0,311\\\\n\\\\tSoftware Requirements\\\\t#15,0,233\\\\n\\\\tNatural Language Toolkit (NLTK)\\\\t#16,0,400\\\\n\\\\tFor Instructors\\\\t#17,0,237\\\\n\\\\tConventions Used in This Book\\\\t#19,0,474\\\\n\\\\tUsing Code Examples\\\\t#19,0,152\\\\n\\\\tSafari\\\\xc2\\\\xae Books Online\\\\t#20,0,463\\\\n\\\\tHow to Contact Us\\\\t#20,0,331\\\\n\\\\tAcknowledgments\\\\t#21,0,497\\\\n\\\\tRoyalties\\\\t#21,0,172\\\\nChapter\\\\xc2\\\\xa01.\\\\xc2\\\\xa0Language Processing and Python\\\\t#23,0,608\\\\n\\\\t1.1\\\\xc2\\\\xa0 Computing with Language: Texts and Words\\\\t#23,0,161\\\\n\\\\t\\\\tGetting Started with Python\\\\t#24,0,608\\\\n\\\\t\\\\tGetting Started with NLTK\\\\t#25,0,478\\\\n\\\\t\\\\tSearching Text\\\\t#26,0,271\\\\n\\\\t\\\\tCounting Vocabulary\\\\t#29,0,373\\\\n\\\\t1.2\\\\xc2\\\\xa0 A Closer Look at Python: Texts as Lists of Words\\\\t#32,0,415\\\\n\\\\t\\\\tLists\\\\t#32,0,349\\\\n\\\\t\\\\tIndexing Lists\\\\t#34,0,608\\\\n\\\\t\\\\tVariables\\\\t#36,0,414\\\\n\\\\t\\\\tStrings\\\\t#37,0,170\\\\n\\\\t1.3\\\\xc2\\\\xa0 Computing with Language: Simple Statistics\\\\t#38,0,353\\\\n\\\\t\\\\tFrequency Distributions\\\\t#39,0,608\\\\n\\\\t\\\\tFine-Grained Selection of Words\\\\t#41,0,534\\\\n\\\\t\\\\tCollocations and Bigrams\\\\t#42,0,358\\\\n\\\\t\\\\tCounting Other Things\\\\t#43,0,491\\\\n\\\\t1.4\\\\xc2\\\\xa0 Back to Python: Making Decisions and Taking Control\\\\t#44,0,329\\\\n\\\\t\\\\tConditionals\\\\t#44,0,215\\\\n\\\\t\\\\tOperating on Every Element\\\\t#46,0,381\\\\n\\\\t\\\\tNested Code Blocks\\\\t#47,0,399\\\\n\\\\t\\\\tLooping with Conditions\\\\t#48,0,410\\\\n\\\\t1.5\\\\xc2\\\\xa0 Automatic Natural Language Understanding\\\\t#49,0,407\\\\n\\\\t\\\\tWord Sense Disambiguation\\\\t#50,0,583\\\\n\\\\t\\\\tPronoun Resolution\\\\t#50,0,297\\\\n\\\\t\\\\tGenerating Language Output\\\\t#51,0,583\\\\n\\\\t\\\\tMachine Translation\\\\t#51,0,248\\\\n\\\\t\\\\tSpoken Dialogue Systems\\\\t#53,0,608\\\\n\\\\t\\\\tTextual Entailment\\\\t#54,0,348\\\\n\\\\t\\\\tLimitations of NLP\\\\t#55,0,546\\\\n\\\\t1.6\\\\xc2\\\\xa0 Summary\\\\t#55,0,369\\\\n\\\\t1.7\\\\xc2\\\\xa0 Further Reading\\\\t#56,0,534\\\\n\\\\t1.8\\\\xc2\\\\xa0 Exercises\\\\t#57,0,571\\\\nChapter\\\\xc2\\\\xa02.\\\\xc2\\\\xa0Accessing Text Corpora and Lexical\\\\n  Resources\\\\t#61,0,608\\\\n\\\\t2.1\\\\xc2\\\\xa0 Accessing Text Corpora\\\\t#61,0,256\\\\n\\\\t\\\\tGutenberg Corpus\\\\t#62,0,608\\\\n\\\\t\\\\tWeb and Chat Text\\\\t#64,0,541\\\\n\\\\t\\\\tBrown Corpus\\\\t#64,0,188\\\\n\\\\t\\\\tReuters Corpus\\\\t#66,0,284\\\\n\\\\t\\\\tInaugural Address Corpus\\\\t#67,0,358\\\\n\\\\t\\\\tAnnotated Text Corpora\\\\t#68,0,290\\\\n\\\\t\\\\tCorpora in Other Languages\\\\t#70,0,608\\\\n\\\\t\\\\tText Corpus Structure\\\\t#71,0,276\\\\n\\\\t\\\\tLoading Your Own Corpus\\\\t#73,0,531\\\\n\\\\t2.2\\\\xc2\\\\xa0 Conditional Frequency Distributions\\\\t#74,0,608\\\\n\\\\t\\\\tConditions and Events\\\\t#74,0,275\\\\n\\\\t\\\\tCounting Words by Genre\\\\t#74,0,138\\\\n\\\\t\\\\tPlotting and Tabulating Distributions\\\\t#75,0,151\\\\n\\\\t\\\\tGenerating Random Text with Bigrams\\\\t#77,0,424\\\\n\\\\t2.3\\\\xc2\\\\xa0 More Python: Reusing Code\\\\t#78,0,301\\\\n\\\\t\\\\tCreating Programs with a Text Editor\\\\t#78,0,199\\\\n\\\\t\\\\tFunctions\\\\t#79,0,264\\\\n\\\\t\\\\tModules\\\\t#81,0,608\\\\n\\\\t2.4\\\\xc2\\\\xa0 Lexical Resources\\\\t#81,0,252\\\\n\\\\t\\\\tWordlist Corpora\\\\t#82,0,401\\\\n\\\\t\\\\tA Pronouncing Dictionary\\\\t#85,0,608\\\\n\\\\t\\\\tComparative Wordlists\\\\t#87,0,210\\\\n\\\\t\\\\tShoebox and Toolbox Lexicons\\\\t#88,0,239\\\\n\\\\t2.5\\\\xc2\\\\xa0 WordNet\\\\t#89,0,381\\\\n\\\\t\\\\tSenses and Synonyms\\\\t#89,0,291\\\\n\\\\t\\\\tThe WordNet Hierarchy\\\\t#91,0,546\\\\n\\\\t\\\\tMore Lexical Relations\\\\t#92,0,250\\\\n\\\\t\\\\tSemantic Similarity\\\\t#93,0,183\\\\n\\\\t2.6\\\\xc2\\\\xa0 Summary\\\\t#95,0,557\\\\n\\\\t2.7\\\\xc2\\\\xa0 Further Reading\\\\t#95,0,246\\\\n\\\\t2.8\\\\xc2\\\\xa0 Exercises\\\\t#96,0,360\\\\nChapter\\\\xc2\\\\xa03.\\\\xc2\\\\xa0Processing Raw Text\\\\t#101,0,608\\\\n\\\\t3.1\\\\xc2\\\\xa0 Accessing Text from the Web and from Disk\\\\t#102,0,608\\\\n\\\\t\\\\tElectronic Books\\\\t#102,0,588\\\\n\\\\t\\\\tDealing with HTML\\\\t#103,0,159\\\\n\\\\t\\\\tProcessing Search Engine Results\\\\t#104,0,226\\\\n\\\\t\\\\tProcessing RSS Feeds\\\\t#105,0,303\\\\n\\\\t\\\\tReading Local Files\\\\t#106,0,546\\\\n\\\\t\\\\tExtracting Text from PDF, MSWord, and Other Binary Formats\\\\t#107,0,373\\\\n\\\\t\\\\tCapturing User Input\\\\t#107,0,233\\\\n\\\\t\\\\tThe NLP Pipeline\\\\t#108,0,608\\\\n\\\\t3.2\\\\xc2\\\\xa0 Strings: Text Processing at the Lowest Level\\\\t#109,0,436\\\\n\\\\t\\\\tBasic Operations with Strings\\\\t#109,0,309\\\\n\\\\t\\\\tPrinting Strings\\\\t#111,0,476\\\\n\\\\t\\\\tAccessing Individual Characters\\\\t#111,0,216\\\\n\\\\t\\\\tAccessing Substrings\\\\t#112,0,191\\\\n\\\\t\\\\tMore Operations on Strings\\\\t#114,0,608\\\\n\\\\t\\\\tThe Difference Between Lists and Strings\\\\t#114,0,310\\\\n\\\\t3.3\\\\xc2\\\\xa0 Text Processing with Unicode\\\\t#115,0,226\\\\n\\\\t\\\\tWhat Is Unicode?\\\\t#116,0,608\\\\n\\\\t\\\\tExtracting Encoded Text from Files\\\\t#116,0,163\\\\n\\\\t\\\\tUsing Your Local Encoding in Python\\\\t#119,0,373\\\\n\\\\t3.4\\\\xc2\\\\xa0 Regular Expressions for Detecting Word Patterns\\\\t#119,0,264\\\\n\\\\t\\\\tUsing Basic Metacharacters\\\\t#120,0,294\\\\n\\\\t\\\\tRanges and Closures\\\\t#121,0,497\\\\n\\\\t3.5\\\\xc2\\\\xa0 Useful Applications of Regular Expressions\\\\t#124,0,608\\\\n\\\\t\\\\tExtracting Word Pieces\\\\t#124,0,534\\\\n\\\\t\\\\tDoing More with Word Pieces\\\\t#124,0,229\\\\n\\\\t\\\\tFinding Word Stems\\\\t#126,0,583\\\\n\\\\t\\\\tSearching Tokenized Text\\\\t#127,0,321\\\\n\\\\t3.6\\\\xc2\\\\xa0 Normalizing Text\\\\t#129,0,608\\\\n\\\\t\\\\tStemmers\\\\t#129,0,453\\\\n\\\\t\\\\tLemmatization\\\\t#130,0,342\\\\n\\\\t3.7\\\\xc2\\\\xa0 Regular Expressions for Tokenizing Text\\\\t#131,0,608\\\\n\\\\t\\\\tSimple Approaches to Tokenization\\\\t#131,0,521\\\\n\\\\t\\\\tNLTK\\\\xe2\\\\x80\\\\x99s Regular Expression Tokenizer\\\\t#133,0,475\\\\n\\\\t\\\\tFurther Issues with Tokenization\\\\t#133,0,170\\\\n\\\\t3.8\\\\xc2\\\\xa0 Segmentation\\\\t#134,0,517\\\\n\\\\t\\\\tSentence Segmentation\\\\t#134,0,410\\\\n\\\\t\\\\tWord Segmentation\\\\t#135,0,512\\\\n\\\\t3.9\\\\xc2\\\\xa0 Formatting: From Lists to Strings\\\\t#138,0,431\\\\n\\\\t\\\\tFrom Lists to Strings\\\\t#138,0,292\\\\n\\\\t\\\\tStrings and Formats\\\\t#139,0,608\\\\n\\\\t\\\\tLining Things Up\\\\t#140,0,274\\\\n\\\\t\\\\tWriting Results to a File\\\\t#142,0,608\\\\n\\\\t\\\\tText Wrapping\\\\t#142,0,250\\\\n\\\\t3.10\\\\xc2\\\\xa0 Summary\\\\t#143,0,495\\\\n\\\\t3.11\\\\xc2\\\\xa0 Further Reading\\\\t#144,0,504\\\\n\\\\t3.12\\\\xc2\\\\xa0 Exercises\\\\t#145,0,446\\\\nChapter\\\\xc2\\\\xa04.\\\\xc2\\\\xa0Writing Structured Programs\\\\t#151,0,608\\\\n\\\\t4.1\\\\xc2\\\\xa0 Back to the Basics\\\\t#152,0,608\\\\n\\\\t\\\\tAssignment\\\\t#152,0,588\\\\n\\\\t\\\\tEquality\\\\t#154,0,492\\\\n\\\\t\\\\tConditionals\\\\t#155,0,608\\\\n\\\\t4.2\\\\xc2\\\\xa0 Sequences\\\\t#155,0,220\\\\n\\\\t\\\\tOperating on Sequence Types\\\\t#156,0,207\\\\n\\\\t\\\\tCombining Different Sequence Types\\\\t#158,0,399\\\\n\\\\t\\\\tGenerator Expressions\\\\t#159,0,179\\\\n\\\\t4.3\\\\xc2\\\\xa0 Questions of Style\\\\t#160,0,436\\\\n\\\\t\\\\tPython Coding Style\\\\t#160,0,309\\\\n\\\\t\\\\tProcedural Versus Declarative Style\\\\t#161,0,336\\\\n\\\\t\\\\tSome Legitimate Uses for Counters\\\\t#163,0,384\\\\n\\\\t4.4\\\\xc2\\\\xa0 Functions: The Foundation of Structured Programming\\\\t#164,0,424\\\\n\\\\t\\\\tFunction Inputs and Outputs\\\\t#165,0,333\\\\n\\\\t\\\\tParameter Passing\\\\t#166,0,346\\\\n\\\\t\\\\tVariable Scope\\\\t#167,0,333\\\\n\\\\t\\\\tChecking Parameter Types\\\\t#168,0,608\\\\n\\\\t\\\\tFunctional Decomposition\\\\t#169,0,571\\\\n\\\\t\\\\tDocumenting Functions\\\\t#170,0,402\\\\n\\\\t4.5\\\\xc2\\\\xa0 Doing More with Functions\\\\t#171,0,294\\\\n\\\\t\\\\tFunctions As Arguments\\\\t#171,0,229\\\\n\\\\t\\\\tAccumulative Functions\\\\t#172,0,283\\\\n\\\\t\\\\tHigher-Order Functions\\\\t#173,0,198\\\\n\\\\t\\\\tNamed Arguments\\\\t#174,0,272\\\\n\\\\t4.6\\\\xc2\\\\xa0 Program Development\\\\t#176,0,501\\\\n\\\\t\\\\tStructure of a Python Module\\\\t#176,0,345\\\\n\\\\t\\\\tMultimodule Programs\\\\t#177,0,129\\\\n\\\\t\\\\tSources of Error\\\\t#178,0,199\\\\n\\\\t\\\\tDebugging Techniques\\\\t#180,0,534\\\\n\\\\t\\\\tDefensive Programming\\\\t#181,0,425\\\\n\\\\t4.7\\\\xc2\\\\xa0 Algorithm Design\\\\t#182,0,517\\\\n\\\\t\\\\tRecursion\\\\t#182,0,162\\\\n\\\\t\\\\tSpace-Time Trade-offs\\\\t#185,0,265\\\\n\\\\t\\\\tDynamic Programming\\\\t#187,0,491\\\\n\\\\t4.8\\\\xc2\\\\xa0 A Sample of Python Libraries\\\\t#189,0,164\\\\n\\\\t\\\\tMatplotlib\\\\t#190,0,608\\\\n\\\\t\\\\tNetworkX\\\\t#191,0,117\\\\n\\\\t\\\\tcsv\\\\t#192,0,255\\\\n\\\\t\\\\tNumPy\\\\t#193,0,289\\\\n\\\\t\\\\tOther Python Libraries\\\\t#194,0,459\\\\n\\\\t4.9\\\\xc2\\\\xa0 Summary\\\\t#194,0,356\\\\n\\\\t4.10\\\\xc2\\\\xa0 Further Reading\\\\t#195,0,504\\\\n\\\\t4.11\\\\xc2\\\\xa0 Exercises\\\\t#195,0,227\\\\nChapter\\\\xc2\\\\xa05.\\\\xc2\\\\xa0Categorizing and Tagging Words\\\\t#201,0,608\\\\n\\\\t5.1\\\\xc2\\\\xa0 Using a Tagger\\\\t#201,0,211\\\\n\\\\t5.2\\\\xc2\\\\xa0 Tagged Corpora\\\\t#203,0,517\\\\n\\\\t\\\\tRepresenting Tagged Tokens\\\\t#203,0,481\\\\n\\\\t\\\\tReading Tagged Corpora\\\\t#203,0,189\\\\n\\\\t\\\\tA Simplified Part-of-Speech Tagset\\\\t#205,0,559\\\\n\\\\t\\\\tNouns\\\\t#206,0,276\\\\n\\\\t\\\\tVerbs\\\\t#207,0,482\\\\n\\\\t\\\\tAdjectives and Adverbs\\\\t#208,0,344\\\\n\\\\t\\\\tUnsimplified Tags\\\\t#209,0,608\\\\n\\\\t\\\\tExploring Tagged Corpora\\\\t#209,0,231\\\\n\\\\t5.3\\\\xc2\\\\xa0 Mapping Words to Properties Using Python Dictionaries\\\\t#211,0,416\\\\n\\\\t\\\\tIndexing Lists Versus Dictionaries\\\\t#211,0,277\\\\n\\\\t\\\\tDictionaries in Python\\\\t#212,0,138\\\\n\\\\t\\\\tDefining Dictionaries\\\\t#215,0,608\\\\n\\\\t\\\\tDefault Dictionaries\\\\t#215,0,464\\\\n\\\\t\\\\tIncrementally Updating a Dictionary\\\\t#216,0,143\\\\n\\\\t\\\\tComplex Keys and Values\\\\t#218,0,319\\\\n\\\\t\\\\tInverting a Dictionary\\\\t#219,0,608\\\\n\\\\t5.4\\\\xc2\\\\xa0 Automatic Tagging\\\\t#220,0,405\\\\n\\\\t\\\\tThe Default Tagger\\\\t#220,0,281\\\\n\\\\t\\\\tThe Regular Expression Tagger\\\\t#221,0,466\\\\n\\\\t\\\\tThe Lookup Tagger\\\\t#222,0,546\\\\n\\\\t\\\\tEvaluation\\\\t#223,0,359\\\\n\\\\t5.5\\\\xc2\\\\xa0 N-Gram Tagging\\\\t#224,0,214\\\\n\\\\t\\\\tUnigram Tagging\\\\t#224,0,178\\\\n\\\\t\\\\tSeparating the Training and Testing Data\\\\t#225,0,420\\\\n\\\\t\\\\tGeneral N-Gram Tagging\\\\t#225,0,217\\\\n\\\\t\\\\tCombining Taggers\\\\t#227,0,461\\\\n\\\\t\\\\tTagging Unknown Words\\\\t#228,0,608\\\\n\\\\t\\\\tStoring Taggers\\\\t#228,0,447\\\\n\\\\t\\\\tPerformance Limitations\\\\t#228,0,175\\\\n\\\\t\\\\tTagging Across Sentence Boundaries\\\\t#230,0,559\\\\n\\\\t5.6\\\\xc2\\\\xa0 Transformation-Based Tagging\\\\t#230,0,291\\\\n\\\\t5.7\\\\xc2\\\\xa0 How to Determine the Category of a Word\\\\t#232,0,202\\\\n\\\\t\\\\tMorphological Clues\\\\t#233,0,608\\\\n\\\\t\\\\tSyntactic Clues\\\\t#233,0,471\\\\n\\\\t\\\\tSemantic Clues\\\\t#233,0,344\\\\n\\\\t\\\\tNew Words\\\\t#233,0,179\\\\n\\\\t\\\\tMorphology in Part-of-Speech Tagsets\\\\t#234,0,583\\\\n\\\\t5.8\\\\xc2\\\\xa0 Summary\\\\t#235,0,456\\\\n\\\\t5.9\\\\xc2\\\\xa0 Further Reading\\\\t#236,0,571\\\\n\\\\t5.10\\\\xc2\\\\xa0 Exercises\\\\t#237,0,595\\\\nChapter\\\\xc2\\\\xa06.\\\\xc2\\\\xa0Learning to Classify Text\\\\t#243,0,608\\\\n\\\\t6.1\\\\xc2\\\\xa0 Supervised Classification\\\\t#243,0,206\\\\n\\\\t\\\\tGender Identification\\\\t#244,0,138\\\\n\\\\t\\\\tChoosing the Right Features\\\\t#246,0,269\\\\n\\\\t\\\\tDocument Classification\\\\t#249,0,283\\\\n\\\\t\\\\tPart-of-Speech Tagging\\\\t#251,0,608\\\\n\\\\t\\\\tExploiting Context\\\\t#252,0,386\\\\n\\\\t\\\\tSequence Classification\\\\t#253,0,192\\\\n\\\\t\\\\tOther Methods for Sequence Classification\\\\t#255,0,515\\\\n\\\\t6.2\\\\xc2\\\\xa0 Further Examples of Supervised Classification\\\\t#255,0,186\\\\n\\\\t\\\\tSentence Segmentation\\\\t#255,0,150\\\\n\\\\t\\\\tIdentifying Dialogue Act Types\\\\t#257,0,608\\\\n\\\\t\\\\tRecognizing Textual Entailment\\\\t#257,0,222\\\\n\\\\t\\\\tScaling Up to Large Datasets\\\\t#259,0,398\\\\n\\\\t6.3\\\\xc2\\\\xa0 Evaluation\\\\t#259,0,216\\\\n\\\\t\\\\tThe Test Set\\\\t#259,0,126\\\\n\\\\t\\\\tAccuracy\\\\t#261,0,558\\\\n\\\\t\\\\tPrecision and Recall\\\\t#261,0,304\\\\n\\\\t\\\\tConfusion Matrices\\\\t#262,0,288\\\\n\\\\t\\\\tCross-Validation\\\\t#263,0,341\\\\n\\\\t6.4\\\\xc2\\\\xa0 Decision Trees\\\\t#264,0,410\\\\n\\\\t\\\\tEntropy and Information Gain\\\\t#265,0,382\\\\n\\\\t6.5\\\\xc2\\\\xa0 Naive Bayes Classifiers\\\\t#267,0,142\\\\n\\\\t\\\\tUnderlying Probabilistic Model\\\\t#269,0,178\\\\n\\\\t\\\\tZero Counts and Smoothing\\\\t#270,0,186\\\\n\\\\t\\\\tNon-Binary Features\\\\t#271,0,353\\\\n\\\\t\\\\tThe Naivete of Independence\\\\t#271,0,195\\\\n\\\\t\\\\tThe Cause of Double-Counting\\\\t#272,0,414\\\\n\\\\t6.6\\\\xc2\\\\xa0 Maximum Entropy Classifiers\\\\t#272,0,138\\\\n\\\\t\\\\tThe Maximum Entropy Model\\\\t#273,0,249\\\\n\\\\t\\\\tMaximizing Entropy\\\\t#274,0,361\\\\n\\\\t\\\\tGenerative Versus Conditional Classifiers\\\\t#276,0,608\\\\n\\\\t6.7\\\\xc2\\\\xa0 Modeling Linguistic Patterns\\\\t#276,0,158\\\\n\\\\t\\\\tWhat Do Models Tell Us?\\\\t#277,0,402\\\\n\\\\t6.8\\\\xc2\\\\xa0 Summary\\\\t#278,0,608\\\\n\\\\t6.9\\\\xc2\\\\xa0 Further Reading\\\\t#278,0,215\\\\n\\\\t6.10\\\\xc2\\\\xa0 Exercises\\\\t#279,0,323\\\\nChapter\\\\xc2\\\\xa07.\\\\xc2\\\\xa0Extracting Information from Text\\\\t#283,0,608\\\\n\\\\t7.1\\\\xc2\\\\xa0 Information Extraction\\\\t#283,0,235\\\\n\\\\t\\\\tInformation Extraction Architecture\\\\t#285,0,583\\\\n\\\\t7.2\\\\xc2\\\\xa0 Chunking\\\\t#286,0,326\\\\n\\\\t\\\\tNoun Phrase Chunking\\\\t#286,0,145\\\\n\\\\t\\\\tTag Patterns\\\\t#288,0,509\\\\n\\\\t\\\\tChunking with Regular Expressions\\\\t#288,0,177\\\\n\\\\t\\\\tExploring Text Corpora\\\\t#289,0,148\\\\n\\\\t\\\\tChinking\\\\t#290,0,364\\\\n\\\\t\\\\tRepresenting Chunks: Tags Versus Trees\\\\t#291,0,429\\\\n\\\\t7.3\\\\xc2\\\\xa0 Developing and Evaluating Chunkers\\\\t#292,0,318\\\\n\\\\t\\\\tReading IOB Format and the CoNLL-2000 Chunking Corpus\\\\t#292,0,203\\\\n\\\\t\\\\tSimple Evaluation and Baselines\\\\t#294,0,472\\\\n\\\\t\\\\tTraining Classifier-Based Chunkers\\\\t#296,0,302\\\\n\\\\t7.4\\\\xc2\\\\xa0 Recursion in Linguistic Structure\\\\t#299,0,177\\\\n\\\\t\\\\tBuilding Nested Structure with Cascaded Chunkers\\\\t#299,0,141\\\\n\\\\t\\\\tTrees\\\\t#301,0,488\\\\n\\\\t\\\\tTree Traversal\\\\t#302,0,223\\\\n\\\\t7.5\\\\xc2\\\\xa0 Named Entity Recognition\\\\t#303,0,468\\\\n\\\\t7.6\\\\xc2\\\\xa0 Relation Extraction\\\\t#306,0,486\\\\n\\\\t7.7\\\\xc2\\\\xa0 Summary\\\\t#307,0,274\\\\n\\\\t7.8\\\\xc2\\\\xa0 Further Reading\\\\t#308,0,467\\\\n\\\\t7.9\\\\xc2\\\\xa0 Exercises\\\\t#308,0,168\\\\nChapter\\\\xc2\\\\xa08.\\\\xc2\\\\xa0Analyzing Sentence Structure\\\\t#313,0,608\\\\n\\\\t8.1\\\\xc2\\\\xa0 Some Grammatical Dilemmas\\\\t#314,0,608\\\\n\\\\t\\\\tLinguistic Data and Unlimited Possibilities\\\\t#314,0,588\\\\n\\\\t\\\\tUbiquitous Ambiguity\\\\t#315,0,318\\\\n\\\\t8.2\\\\xc2\\\\xa0 What\\\\xe2\\\\x80\\\\x99s the Use of Syntax?\\\\t#317,0,370\\\\n\\\\t\\\\tBeyond n-grams\\\\t#317,0,334\\\\n\\\\t8.3\\\\xc2\\\\xa0 Context-Free Grammar\\\\t#320,0,571\\\\n\\\\t\\\\tA Simple Grammar\\\\t#320,0,535\\\\n\\\\t\\\\tWriting Your Own Grammars\\\\t#322,0,253\\\\n\\\\t\\\\tRecursion in Syntactic Structure\\\\t#323,0,517\\\\n\\\\t8.4\\\\xc2\\\\xa0 Parsing with Context-Free Grammar\\\\t#324,0,191\\\\n\\\\t\\\\tRecursive Descent Parsing\\\\t#325,0,468\\\\n\\\\t\\\\tShift-Reduce Parsing\\\\t#326,0,164\\\\n\\\\t\\\\tThe Left-Corner Parser\\\\t#328,0,266\\\\n\\\\t\\\\tWell-Formed Substring Tables\\\\t#329,0,481\\\\n\\\\t8.5\\\\xc2\\\\xa0 Dependencies and Dependency Grammar\\\\t#332,0,241\\\\n\\\\t\\\\tValency and the Lexicon\\\\t#334,0,129\\\\n\\\\t\\\\tScaling Up\\\\t#336,0,214\\\\n\\\\t8.6\\\\xc2\\\\xa0 Grammar Development\\\\t#337,0,492\\\\n\\\\t\\\\tTreebanks and Grammars\\\\t#337,0,390\\\\n\\\\t\\\\tPernicious Ambiguity\\\\t#339,0,608\\\\n\\\\t\\\\tWeighted Grammar\\\\t#340,0,238\\\\n\\\\t8.7\\\\xc2\\\\xa0 Summary\\\\t#343,0,536\\\\n\\\\t8.8\\\\xc2\\\\xa0 Further Reading\\\\t#344,0,608\\\\n\\\\t8.9\\\\xc2\\\\xa0 Exercises\\\\t#344,0,293\\\\nChapter\\\\xc2\\\\xa09.\\\\xc2\\\\xa0Building Feature-Based Grammars\\\\t#349,0,608\\\\n\\\\t9.1\\\\xc2\\\\xa0 Grammatical Features\\\\t#349,0,243\\\\n\\\\t\\\\tSyntactic Agreement\\\\t#351,0,505\\\\n\\\\t\\\\tUsing Attributes and Constraints\\\\t#353,0,497\\\\n\\\\t\\\\tTerminology\\\\t#357,0,161\\\\n\\\\t9.2\\\\xc2\\\\xa0 Processing Feature Structures\\\\t#359,0,400\\\\n\\\\t\\\\tSubsumption and Unification\\\\t#363,0,608\\\\n\\\\t9.3\\\\xc2\\\\xa0 Extending a Feature-Based Grammar\\\\t#366,0,204\\\\n\\\\t\\\\tSubcategorization\\\\t#366,0,139\\\\n\\\\t\\\\tHeads Revisited\\\\t#369,0,608\\\\n\\\\t\\\\tAuxiliary Verbs and Inversion\\\\t#370,0,371\\\\n\\\\t\\\\tUnbounded Dependency Constructions\\\\t#371,0,464\\\\n\\\\t\\\\tCase and Gender in German\\\\t#375,0,504\\\\n\\\\t9.4\\\\xc2\\\\xa0 Summary\\\\t#378,0,489\\\\n\\\\t9.5\\\\xc2\\\\xa0 Further Reading\\\\t#379,0,608\\\\n\\\\t9.6\\\\xc2\\\\xa0 Exercises\\\\t#380,0,500\\\\nChapter\\\\xc2\\\\xa010.\\\\xc2\\\\xa0Analyzing the Meaning of Sentences\\\\t#383,0,608\\\\n\\\\t10.1\\\\xc2\\\\xa0 Natural Language Understanding\\\\t#383,0,272\\\\n\\\\t\\\\tQuerying a Database\\\\t#383,0,236\\\\n\\\\t\\\\tNatural Language, Semantics, and Logic\\\\t#387,0,424\\\\n\\\\t10.2\\\\xc2\\\\xa0 Propositional Logic\\\\t#390,0,571\\\\n\\\\t10.3\\\\xc2\\\\xa0 First-Order Logic\\\\t#394,0,608\\\\n\\\\t\\\\tSyntax\\\\t#394,0,480\\\\n\\\\t\\\\tFirst-Order Theorem Proving\\\\t#397,0,285\\\\n\\\\t\\\\tSummarizing the Language of First-Order Logic\\\\t#398,0,395\\\\n\\\\t\\\\tTruth in Model\\\\t#399,0,506\\\\n\\\\t\\\\tIndividual Variables and Assignments\\\\t#400,0,178\\\\n\\\\t\\\\tQuantification\\\\t#402,0,608\\\\n\\\\t\\\\tQuantifier Scope Ambiguity\\\\t#403,0,504\\\\n\\\\t\\\\tModel Building\\\\t#405,0,608\\\\n\\\\t10.4\\\\xc2\\\\xa0 The Semantics of English Sentences\\\\t#407,0,608\\\\n\\\\t\\\\tCompositional Semantics in Feature-Based Grammar\\\\t#407,0,588\\\\n\\\\t\\\\tThe \\\\xce\\\\xbb-Calculus\\\\t#408,0,353\\\\n\\\\t\\\\tQuantified NPs\\\\t#412,0,445\\\\n\\\\t\\\\tTransitive Verbs\\\\t#413,0,483\\\\n\\\\t\\\\tQuantifier Ambiguity Revisited\\\\t#416,0,579\\\\n\\\\t10.5\\\\xc2\\\\xa0 Discourse Semantics\\\\t#419,0,608\\\\n\\\\t\\\\tDiscourse Representation Theory\\\\t#419,0,509\\\\n\\\\t\\\\tDiscourse Processing\\\\t#422,0,348\\\\n\\\\t10.6\\\\xc2\\\\xa0 Summary\\\\t#424,0,440\\\\n\\\\t10.7\\\\xc2\\\\xa0 Further Reading\\\\t#425,0,452\\\\n\\\\t10.8\\\\xc2\\\\xa0 Exercises\\\\t#426,0,397\\\\nChapter\\\\xc2\\\\xa011.\\\\xc2\\\\xa0Managing Linguistic Data\\\\t#429,0,608\\\\n\\\\t11.1\\\\xc2\\\\xa0 Corpus Structure: A Case Study\\\\t#429,0,265\\\\n\\\\t\\\\tThe Structure of TIMIT\\\\t#429,0,163\\\\n\\\\t\\\\tNotable Design Features\\\\t#431,0,359\\\\n\\\\t\\\\tFundamental Data Types\\\\t#433,0,608\\\\n\\\\t11.2\\\\xc2\\\\xa0 The Life Cycle of a Corpus\\\\t#434,0,510\\\\n\\\\t\\\\tThree Corpus Creation Scenarios\\\\t#434,0,346\\\\n\\\\t\\\\tQuality Control\\\\t#435,0,492\\\\n\\\\t\\\\tCuration Versus Evolution\\\\t#436,0,136\\\\n\\\\t11.3\\\\xc2\\\\xa0 Acquiring Data\\\\t#438,0,492\\\\n\\\\t\\\\tObtaining Data from the Web\\\\t#438,0,456\\\\n\\\\t\\\\tObtaining Data from Word Processor Files\\\\t#438,0,171\\\\n\\\\t\\\\tObtaining Data from Spreadsheets and Databases\\\\t#440,0,412\\\\n\\\\t\\\\tConverting Data Formats\\\\t#441,0,448\\\\n\\\\t\\\\tDeciding Which Layers of Annotation to Include\\\\t#442,0,320\\\\n\\\\t\\\\tStandards and Tools\\\\t#443,0,332\\\\n\\\\t\\\\tSpecial Considerations When Working with Endangered Languages\\\\t#444,0,126\\\\n\\\\t11.4\\\\xc2\\\\xa0 Working with XML\\\\t#447,0,608\\\\n\\\\t\\\\tUsing XML for Linguistic Structures\\\\t#447,0,497\\\\n\\\\t\\\\tThe Role of XML\\\\t#448,0,307\\\\n\\\\t\\\\tThe ElementTree Interface\\\\t#449,0,505\\\\n\\\\t\\\\tUsing ElementTree for Accessing Toolbox Data\\\\t#451,0,213\\\\n\\\\t\\\\tFormatting Entries\\\\t#452,0,149\\\\n\\\\t11.5\\\\xc2\\\\xa0 Working with Toolbox Data\\\\t#453,0,416\\\\n\\\\t\\\\tAdding a Field to Each Entry\\\\t#453,0,240\\\\n\\\\t\\\\tValidating a Toolbox Lexicon\\\\t#454,0,187\\\\n\\\\t11.6\\\\xc2\\\\xa0 Describing Language Resources Using OLAC Metadata\\\\t#457,0,608\\\\n\\\\t\\\\tWhat Is Metadata?\\\\t#457,0,546\\\\n\\\\t\\\\tOLAC: Open Language Archives Community\\\\t#457,0,237\\\\n\\\\t11.7\\\\xc2\\\\xa0 Summary\\\\t#459,0,529\\\\n\\\\t11.8\\\\xc2\\\\xa0 Further Reading\\\\t#459,0,288\\\\n\\\\t11.9\\\\xc2\\\\xa0 Exercises\\\\t#460,0,247\\\\nAfterword: The Language Challenge\\\\t#463,0,608\\\\n\\\\tLanguage Processing Versus Symbol Processing\\\\t#464,0,475\\\\n\\\\tContemporary Philosophical Divides\\\\t#465,0,321\\\\n\\\\tNLTK Roadmap\\\\t#466,0,213\\\\n\\\\tEnvoi...\\\\t#469,0,608\\\\nBibliography\\\\t#471,0,608\\\\nNLTK Index\\\\t#481,0,608\\\\nGeneral Index\\\\t#485,0,608\\\\n'\"]"
      ]
     },
     "execution_count": 50,
     "metadata": {},
     "output_type": "execute_result"
    }
   ],
   "source": [
    "mystr"
   ]
  },
  {
   "cell_type": "code",
   "execution_count": null,
   "metadata": {},
   "outputs": [],
   "source": []
  },
  {
   "cell_type": "code",
   "execution_count": null,
   "metadata": {},
   "outputs": [],
   "source": []
  },
  {
   "cell_type": "code",
   "execution_count": null,
   "metadata": {},
   "outputs": [],
   "source": []
  },
  {
   "cell_type": "code",
   "execution_count": null,
   "metadata": {},
   "outputs": [],
   "source": []
  }
 ],
 "metadata": {
  "kernelspec": {
   "display_name": "Python 3",
   "language": "python",
   "name": "python3"
  },
  "language_info": {
   "codemirror_mode": {
    "name": "ipython",
    "version": 3
   },
   "file_extension": ".py",
   "mimetype": "text/x-python",
   "name": "python",
   "nbconvert_exporter": "python",
   "pygments_lexer": "ipython3",
   "version": "3.7.6"
  }
 },
 "nbformat": 4,
 "nbformat_minor": 4
}
