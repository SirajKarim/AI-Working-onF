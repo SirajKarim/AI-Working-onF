{
 "cells": [
  {
   "cell_type": "code",
   "execution_count": 1,
   "metadata": {},
   "outputs": [],
   "source": [
    "# import requests "
   ]
  },
  {
   "cell_type": "code",
   "execution_count": 2,
   "metadata": {},
   "outputs": [],
   "source": [
    "# file_url = \"http://codex.cs.yale.edu/avi/db-book/db4/slide-dir/ch1-2.pdf\"\n",
    "  \n",
    "# r = requests.get(file_url, stream = True) \n",
    "  \n",
    "# with open(\"python.pdf\",\"wb\") as pdf: \n",
    "#     for chunk in r.iter_content(chunk_size=1024): \n",
    "  \n",
    "#          # writing one chunk at a time to pdf file \n",
    "#          if chunk: \n",
    "#              pdf.write(chunk) "
   ]
  },
  {
   "cell_type": "code",
   "execution_count": 3,
   "metadata": {},
   "outputs": [],
   "source": [
    "# ========"
   ]
  },
  {
   "cell_type": "code",
   "execution_count": 4,
   "metadata": {},
   "outputs": [],
   "source": [
    "# import os\n",
    "\n",
    "# import requests\n",
    "\n",
    "# from time import time\n",
    "\n",
    "# from multiprocessing.pool import ThreadPool"
   ]
  },
  {
   "cell_type": "code",
   "execution_count": 5,
   "metadata": {},
   "outputs": [],
   "source": [
    "# def url_response(url):\n",
    "\n",
    "#     path, url = url\n",
    "\n",
    "#     r = requests.get(url, stream = True)\n",
    "\n",
    "#     with open(path, 'wb') as f:\n",
    "\n",
    "#         for ch in r:\n",
    "\n",
    "#             f.write(ch)"
   ]
  },
  {
   "cell_type": "code",
   "execution_count": 6,
   "metadata": {},
   "outputs": [],
   "source": [
    "# urls = [(\"Event1\", \"https://www.python.org/events/python-events/805/\"),\n",
    "\n",
    "# (\"Event2\", \"https://www.python.org/events/python-events/801/\"),\n",
    "# (\"Event3\", \"https://www.python.org/events/python-events/790/\"),\n",
    "# (\"Event4\", \"https://www.python.org/events/python-events/798/\"),\n",
    "# (\"Event5\", \"https://www.python.org/events/python-events/807/\"),\n",
    "# (\"Event6\", \"https://www.python.org/events/python-events/807/\"),\n",
    "# (\"Event7\", \"https://www.python.org/events/python-events/757/\"),\n",
    "# (\"Event8\", \"https://www.python.org/events/python-user-group/816/\")]"
   ]
  },
  {
   "cell_type": "code",
   "execution_count": 8,
   "metadata": {},
   "outputs": [],
   "source": [
    "# start = time()\n",
    "\n",
    "# for x in urls:\n",
    "\n",
    "#     url_response (x)\n",
    "\n",
    "# print(f\"Time to download: {time() - start}\")"
   ]
  }
 ],
 "metadata": {
  "kernelspec": {
   "display_name": "Python 3",
   "language": "python",
   "name": "python3"
  },
  "language_info": {
   "codemirror_mode": {
    "name": "ipython",
    "version": 3
   },
   "file_extension": ".py",
   "mimetype": "text/x-python",
   "name": "python",
   "nbconvert_exporter": "python",
   "pygments_lexer": "ipython3",
   "version": "3.7.3"
  }
 },
 "nbformat": 4,
 "nbformat_minor": 2
}
